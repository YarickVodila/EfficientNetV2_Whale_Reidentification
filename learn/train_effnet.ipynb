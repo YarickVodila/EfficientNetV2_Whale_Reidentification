{
 "cells": [
  {
   "cell_type": "code",
   "execution_count": 1,
   "metadata": {
    "collapsed": true
   },
   "outputs": [],
   "source": [
    "import cv2\n",
    "import keras\n",
    "import pandas as pd\n",
    "from keras.utils.np_utils import to_categorical\n",
    "from keras import layers\n",
    "from keras.applications import EfficientNetV2B0\n",
    "from keras.utils import Sequence\n",
    "import numpy as np\n",
    "from matplotlib import pyplot as plt\n",
    "import math\n",
    "from keras.preprocessing.image import ImageDataGenerator"
   ]
  },
  {
   "cell_type": "code",
   "execution_count": 2,
   "outputs": [],
   "source": [
    "data = pd.read_csv('../train.csv')\n",
    "data_test =pd.read_csv('../test.csv')\n",
    "\n",
    "data_list = []\n",
    "for i in data['ID_img']:\n",
    "    image = cv2.imread('../train/'+i)\n",
    "    #print(image)\n",
    "    image = cv2.resize(image, (224, 224))\n",
    "    data_list.append(image)\n",
    "\n",
    "data_list_test = []\n",
    "for i in data_test['ID_img']:\n",
    "    image = cv2.imread('../test/'+i)\n",
    "    #print(image)\n",
    "    image = cv2.resize(image, (224, 224))\n",
    "    data_list_test.append(image)"
   ],
   "metadata": {
    "collapsed": false
   }
  },
  {
   "cell_type": "code",
   "execution_count": 3,
   "outputs": [
    {
     "name": "stdout",
     "output_type": "stream",
     "text": [
      "(6920, 102)\n",
      "(6920, 224, 224, 3)\n",
      "(918, 102)\n",
      "(918, 224, 224, 3)\n"
     ]
    }
   ],
   "source": [
    "'''def stratified_kfold(data,coef):\n",
    "    test_index = []\n",
    "    train_index = list(data.index)\n",
    "    value_count = data['class'].value_counts()\n",
    "    #print(value_count)\n",
    "    for value in value_count.index:\n",
    "        test_count = math.ceil(value_count[value]*coef)\n",
    "        test_index += list(data[data['class'] == value].index[0:test_count])\n",
    "    for index_test in test_index:\n",
    "        train_index.remove(index_test)\n",
    "    return train_index,test_index\n",
    "'''\n",
    "x_train = np.array(data_list).astype('float32') / 255.0\n",
    "data['class'] = data['class'] - 1\n",
    "y_train = data['class'].to_numpy().astype(int).reshape(-1, 1)\n",
    "y_train = to_categorical(y_train)\n",
    "\n",
    "x_test = np.array(data_list_test).astype('float32') / 255.0\n",
    "data_test['class'] = data_test['class'] - 1\n",
    "y_test = data_test['class'].to_numpy().astype(int).reshape(-1, 1)\n",
    "y_test = to_categorical(y_test)\n",
    "\n",
    "\n",
    "'''train_index,test_index = stratified_kfold(data,0.25)\n",
    "x_train, x_val = x_train_full[train_index], x_train_full[test_index]\n",
    "y_train, y_val = y_train_full[train_index], y_train_full[test_index]'''\n",
    "print(y_train.shape)\n",
    "print(x_train.shape)\n",
    "print(y_test.shape)\n",
    "print(x_test.shape)"
   ],
   "metadata": {
    "collapsed": false
   }
  },
  {
   "cell_type": "code",
   "execution_count": 4,
   "outputs": [],
   "source": [
    "class DataGenerator(Sequence):\n",
    "    def __init__(self, x_set, y_set, batch_size):\n",
    "        self.x, self.y = x_set, y_set\n",
    "        self.batch_size = batch_size\n",
    "\n",
    "    def __len__(self):\n",
    "        return int(np.ceil(len(self.x) / float(self.batch_size)))\n",
    "\n",
    "    def __getitem__(self, idx):\n",
    "        batch_x = self.x[idx * self.batch_size:(idx + 1) * self.batch_size]\n",
    "        batch_y = self.y[idx * self.batch_size:(idx + 1) * self.batch_size]\n",
    "        return batch_x, batch_y\n",
    "val_gen = DataGenerator(x_test, y_test, 4)\n",
    "#train_gen = DataGenerator(x_train, y_train, 12)\n",
    "\n",
    "datagen = ImageDataGenerator(\n",
    "    rotation_range=360,\n",
    "    width_shift_range=0.15,\n",
    "    height_shift_range=0.15,\n",
    "    shear_range = 5,\n",
    "    zoom_range = 0.1,\n",
    "    channel_shift_range = 0.07,\n",
    "    horizontal_flip=True,\n",
    "    vertical_flip = True)\n",
    "train_gen = datagen.flow(x_train, y_train, 4)"
   ],
   "metadata": {
    "collapsed": false
   }
  },
  {
   "cell_type": "code",
   "execution_count": null,
   "outputs": [
    {
     "name": "stdout",
     "output_type": "stream",
     "text": [
      "Model: \"model\"\n",
      "_________________________________________________________________\n",
      " Layer (type)                Output Shape              Param #   \n",
      "=================================================================\n",
      " input_1 (InputLayer)        [(None, 224, 224, 3)]     0         \n",
      "                                                                 \n",
      " efficientnetv2-b0 (Function  (None, 102)              6049974   \n",
      " al)                                                             \n",
      "                                                                 \n",
      "=================================================================\n",
      "Total params: 6,049,974\n",
      "Trainable params: 5,989,366\n",
      "Non-trainable params: 60,608\n",
      "_________________________________________________________________\n",
      "Epoch 1/50\n",
      "1730/1730 [==============================] - 148s 77ms/step - loss: 4.1961 - categorical_accuracy: 0.0653 - val_loss: 4.0256 - val_categorical_accuracy: 0.0752\n",
      "Epoch 2/50\n",
      "1730/1730 [==============================] - 128s 74ms/step - loss: 3.7285 - categorical_accuracy: 0.1029 - val_loss: 3.1471 - val_categorical_accuracy: 0.2418\n",
      "Epoch 3/50\n",
      "1730/1730 [==============================] - 126s 73ms/step - loss: 3.3535 - categorical_accuracy: 0.1733 - val_loss: 2.7441 - val_categorical_accuracy: 0.3257\n",
      "Epoch 4/50\n",
      "1730/1730 [==============================] - 125s 72ms/step - loss: 2.9356 - categorical_accuracy: 0.2512 - val_loss: 2.2259 - val_categorical_accuracy: 0.4031\n",
      "Epoch 5/50\n",
      "1730/1730 [==============================] - 129s 75ms/step - loss: 2.6121 - categorical_accuracy: 0.3224 - val_loss: 1.9918 - val_categorical_accuracy: 0.4717\n",
      "Epoch 6/50\n",
      "1730/1730 [==============================] - 128s 74ms/step - loss: 2.3021 - categorical_accuracy: 0.3926 - val_loss: 1.4306 - val_categorical_accuracy: 0.6100\n",
      "Epoch 7/50\n",
      "1730/1730 [==============================] - 122s 71ms/step - loss: 2.0533 - categorical_accuracy: 0.4408 - val_loss: 1.2682 - val_categorical_accuracy: 0.6394\n",
      "Epoch 8/50\n",
      "1730/1730 [==============================] - 124s 72ms/step - loss: 1.7650 - categorical_accuracy: 0.5198 - val_loss: 1.1994 - val_categorical_accuracy: 0.6525\n",
      "Epoch 9/50\n",
      "1730/1730 [==============================] - 130s 75ms/step - loss: 1.5111 - categorical_accuracy: 0.5783 - val_loss: 0.8781 - val_categorical_accuracy: 0.7538\n",
      "Epoch 10/50\n",
      "1730/1730 [==============================] - 130s 75ms/step - loss: 1.2842 - categorical_accuracy: 0.6403 - val_loss: 0.7331 - val_categorical_accuracy: 0.7702\n",
      "Epoch 11/50\n",
      "1730/1730 [==============================] - 130s 75ms/step - loss: 1.1495 - categorical_accuracy: 0.6793 - val_loss: 0.5834 - val_categorical_accuracy: 0.8214\n",
      "Epoch 12/50\n",
      "1730/1730 [==============================] - 130s 75ms/step - loss: 0.9907 - categorical_accuracy: 0.7210 - val_loss: 0.5684 - val_categorical_accuracy: 0.8399\n",
      "Epoch 13/50\n",
      "1730/1730 [==============================] - 129s 74ms/step - loss: 0.8827 - categorical_accuracy: 0.7478 - val_loss: 0.4413 - val_categorical_accuracy: 0.8813\n",
      "Epoch 14/50\n",
      "1730/1730 [==============================] - 128s 74ms/step - loss: 0.8070 - categorical_accuracy: 0.7753 - val_loss: 0.4512 - val_categorical_accuracy: 0.8660\n",
      "Epoch 15/50\n",
      "1730/1730 [==============================] - 131s 76ms/step - loss: 0.6946 - categorical_accuracy: 0.8036 - val_loss: 0.3662 - val_categorical_accuracy: 0.8965\n",
      "Epoch 16/50\n",
      "1730/1730 [==============================] - 129s 75ms/step - loss: 0.6186 - categorical_accuracy: 0.8165 - val_loss: 0.2266 - val_categorical_accuracy: 0.9303\n",
      "Epoch 17/50\n",
      "1730/1730 [==============================] - 128s 74ms/step - loss: 0.5823 - categorical_accuracy: 0.8275 - val_loss: 0.3249 - val_categorical_accuracy: 0.9041\n",
      "Epoch 18/50\n",
      "1730/1730 [==============================] - 123s 71ms/step - loss: 0.5226 - categorical_accuracy: 0.8462 - val_loss: 0.2063 - val_categorical_accuracy: 0.9368\n",
      "Epoch 19/50\n",
      "1730/1730 [==============================] - 124s 71ms/step - loss: 0.4845 - categorical_accuracy: 0.8555 - val_loss: 0.2616 - val_categorical_accuracy: 0.9139\n",
      "Epoch 20/50\n",
      "1730/1730 [==============================] - 123s 71ms/step - loss: 0.4648 - categorical_accuracy: 0.8636 - val_loss: 0.2048 - val_categorical_accuracy: 0.9368\n",
      "Epoch 21/50\n",
      "1730/1730 [==============================] - 125s 73ms/step - loss: 0.4276 - categorical_accuracy: 0.8775 - val_loss: 0.2251 - val_categorical_accuracy: 0.9444\n",
      "Epoch 22/50\n",
      "1730/1730 [==============================] - 128s 74ms/step - loss: 0.3814 - categorical_accuracy: 0.8874 - val_loss: 0.1923 - val_categorical_accuracy: 0.9390\n",
      "Epoch 23/50\n",
      "1730/1730 [==============================] - 128s 74ms/step - loss: 0.3638 - categorical_accuracy: 0.8928 - val_loss: 0.1385 - val_categorical_accuracy: 0.9575\n",
      "Epoch 24/50\n",
      "1730/1730 [==============================] - 127s 74ms/step - loss: 0.3424 - categorical_accuracy: 0.8987 - val_loss: 0.1461 - val_categorical_accuracy: 0.9564\n",
      "Epoch 25/50\n",
      "1730/1730 [==============================] - 128s 74ms/step - loss: 0.3243 - categorical_accuracy: 0.9069 - val_loss: 0.1422 - val_categorical_accuracy: 0.9532\n",
      "Epoch 26/50\n",
      "1730/1730 [==============================] - 127s 74ms/step - loss: 0.3212 - categorical_accuracy: 0.9091 - val_loss: 0.2506 - val_categorical_accuracy: 0.9281\n",
      "Epoch 27/50\n",
      "1730/1730 [==============================] - 127s 73ms/step - loss: 0.2815 - categorical_accuracy: 0.9123 - val_loss: 0.0940 - val_categorical_accuracy: 0.9749\n",
      "Epoch 28/50\n",
      "1730/1730 [==============================] - 130s 75ms/step - loss: 0.2844 - categorical_accuracy: 0.9175 - val_loss: 0.1585 - val_categorical_accuracy: 0.9575\n",
      "Epoch 29/50\n",
      "1730/1730 [==============================] - 131s 75ms/step - loss: 0.2651 - categorical_accuracy: 0.9208 - val_loss: 0.0887 - val_categorical_accuracy: 0.9695\n",
      "Epoch 30/50\n",
      " 882/1730 [==============>...............] - ETA: 1:02 - loss: 0.2265 - categorical_accuracy: 0.9269"
     ]
    }
   ],
   "source": [
    "num_classes = 102\n",
    "img_size = 224\n",
    "\n",
    "inputs = layers.Input(shape=(img_size, img_size, 3))\n",
    "output = EfficientNetV2B0(include_top=True, weights=None, classes=num_classes,include_preprocessing = False, input_shape = (224,224,3))(inputs)#,include_preprocessing = False\n",
    "\n",
    "model = keras.Model(inputs,output)\n",
    "model.compile(optimizer='adam', loss = 'categorical_crossentropy', metrics=[\"categorical_accuracy\"])\n",
    "model.summary()\n",
    "his = model.fit(train_gen,epochs=50,validation_data = val_gen)"
   ],
   "metadata": {
    "collapsed": false,
    "pycharm": {
     "is_executing": true
    }
   }
  },
  {
   "cell_type": "code",
   "execution_count": 21,
   "outputs": [],
   "source": [
    "#model.layers[1].save_weights('weights_EffNetb0v2_ep1.h5')"
   ],
   "metadata": {
    "collapsed": false
   }
  },
  {
   "cell_type": "code",
   "execution_count": 6,
   "outputs": [],
   "source": [
    "model.save('EffNetb0v2_ep1.h5')"
   ],
   "metadata": {
    "collapsed": false
   }
  },
  {
   "cell_type": "code",
   "execution_count": 18,
   "outputs": [
    {
     "data": {
      "text/plain": "<Figure size 640x480 with 1 Axes>",
      "image/png": "[encoded data removed]"
     },
     "metadata": {},
     "output_type": "display_data"
    }
   ],
   "source": [
    "plt.plot(his.history['accuracy'])\n",
    "plt.plot(his.history['val_accuracy'])\n",
    "plt.title('model accuracy')\n",
    "plt.ylabel('accuracy')\n",
    "plt.xlabel('epoch')\n",
    "plt.legend(['train', 'val'], loc='upper left')\n",
    "plt.show()"
   ],
   "metadata": {
    "collapsed": false
   }
  },
  {
   "cell_type": "code",
   "execution_count": null,
   "outputs": [],
   "source": [],
   "metadata": {
    "collapsed": false
   }
  }
 ],
 "metadata": {
  "kernelspec": {
   "display_name": "Python 3",
   "language": "python",
   "name": "python3"
  },
  "language_info": {
   "codemirror_mode": {
    "name": "ipython",
    "version": 2
   },
   "file_extension": ".py",
   "mimetype": "text/x-python",
   "name": "python",
   "nbconvert_exporter": "python",
   "pygments_lexer": "ipython2",
   "version": "2.7.6"
  }
 },
 "nbformat": 4,
 "nbformat_minor": 0
}
