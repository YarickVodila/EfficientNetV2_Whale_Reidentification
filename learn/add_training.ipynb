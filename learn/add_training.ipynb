{
 "cells": [
  {
   "cell_type": "code",
   "execution_count": 11,
   "metadata": {
    "collapsed": true
   },
   "outputs": [],
   "source": [
    "import cv2\n",
    "import keras\n",
    "import pandas as pd\n",
    "from keras.utils.np_utils import to_categorical\n",
    "from keras import layers\n",
    "from keras.applications import EfficientNetV2B0\n",
    "from keras.utils import Sequence\n",
    "import numpy as np\n",
    "from matplotlib import pyplot as plt\n",
    "import math\n",
    "from keras.preprocessing.image import ImageDataGenerator"
   ]
  },
  {
   "cell_type": "code",
   "execution_count": 12,
   "outputs": [],
   "source": [
    "data = pd.read_csv('../train.csv')\n",
    "data_test =pd.read_csv('../test.csv')\n",
    "\n",
    "data_list = []\n",
    "for i in data['ID_img']:\n",
    "    image = cv2.imread('../train/'+i)\n",
    "    #print(image)\n",
    "    image = cv2.resize(image, (224, 224))\n",
    "    data_list.append(image)\n",
    "\n",
    "data_list_test = []\n",
    "for i in data_test['ID_img']:\n",
    "    image = cv2.imread('../test/'+i)\n",
    "    #print(image)\n",
    "    image = cv2.resize(image, (224, 224))\n",
    "    data_list_test.append(image)"
   ],
   "metadata": {
    "collapsed": false
   }
  },
  {
   "cell_type": "code",
   "execution_count": 13,
   "outputs": [
    {
     "name": "stdout",
     "output_type": "stream",
     "text": [
      "(6920, 102)\n",
      "(6920, 224, 224, 3)\n",
      "(918, 102)\n",
      "(918, 224, 224, 3)\n"
     ]
    }
   ],
   "source": [
    "'''def stratified_kfold(data,coef):\n",
    "    test_index = []\n",
    "    train_index = list(data.index)\n",
    "    value_count = data['class'].value_counts()\n",
    "    #print(value_count)\n",
    "    for value in value_count.index:\n",
    "        test_count = math.ceil(value_count[value]*coef)\n",
    "        test_index += list(data[data['class'] == value].index[0:test_count])\n",
    "    for index_test in test_index:\n",
    "        train_index.remove(index_test)\n",
    "    return train_index,test_index\n",
    "'''\n",
    "x_train = np.array(data_list).astype('float32') / 255.0\n",
    "data['class'] = data['class'] - 1\n",
    "y_train = data['class'].to_numpy().astype(int).reshape(-1, 1)\n",
    "y_train = to_categorical(y_train)\n",
    "\n",
    "x_test = np.array(data_list_test).astype('float32') / 255.0\n",
    "data_test['class'] = data_test['class'] - 1\n",
    "y_test = data_test['class'].to_numpy().astype(int).reshape(-1, 1)\n",
    "y_test = to_categorical(y_test)\n",
    "\n",
    "\n",
    "'''train_index,test_index = stratified_kfold(data,0.25)\n",
    "x_train, x_val = x_train_full[train_index], x_train_full[test_index]\n",
    "y_train, y_val = y_train_full[train_index], y_train_full[test_index]'''\n",
    "print(y_train.shape)\n",
    "print(x_train.shape)\n",
    "print(y_test.shape)\n",
    "print(x_test.shape)\n"
   ],
   "metadata": {
    "collapsed": false
   }
  },
  {
   "cell_type": "code",
   "execution_count": 14,
   "outputs": [],
   "source": [
    "class DataGenerator(Sequence):\n",
    "    def __init__(self, x_set, y_set, batch_size):\n",
    "        self.x, self.y = x_set, y_set\n",
    "        self.batch_size = batch_size\n",
    "\n",
    "    def __len__(self):\n",
    "        return int(np.ceil(len(self.x) / float(self.batch_size)))\n",
    "\n",
    "    def __getitem__(self, idx):\n",
    "        batch_x = self.x[idx * self.batch_size:(idx + 1) * self.batch_size]\n",
    "        batch_y = self.y[idx * self.batch_size:(idx + 1) * self.batch_size]\n",
    "        return batch_x, batch_y\n",
    "val_gen = DataGenerator(x_test, y_test, 4)\n",
    "#train_gen = DataGenerator(x_train, y_train, 12)\n",
    "\n",
    "datagen = ImageDataGenerator(\n",
    "    rotation_range=360,\n",
    "    width_shift_range=0.15,\n",
    "    height_shift_range=0.15,\n",
    "    shear_range = 5,\n",
    "    zoom_range = 0.1,\n",
    "    channel_shift_range = 0.07,\n",
    "    horizontal_flip=True,\n",
    "    vertical_flip = True)\n",
    "train_gen = datagen.flow(x_train, y_train, 4)"
   ],
   "metadata": {
    "collapsed": false
   }
  },
  {
   "cell_type": "code",
   "execution_count": 16,
   "outputs": [
    {
     "name": "stdout",
     "output_type": "stream",
     "text": [
      "Model: \"model_1\"\n",
      "_________________________________________________________________\n",
      " Layer (type)                Output Shape              Param #   \n",
      "=================================================================\n",
      " input_5 (InputLayer)        [(None, 224, 224, 3)]     0         \n",
      "                                                                 \n",
      " efficientnetv2-b0 (Function  (None, 102)              6049974   \n",
      " al)                                                             \n",
      "                                                                 \n",
      "=================================================================\n",
      "Total params: 6,049,974\n",
      "Trainable params: 5,989,366\n",
      "Non-trainable params: 60,608\n",
      "_________________________________________________________________\n",
      "Epoch 1/20\n",
      "1730/1730 [==============================] - 165s 88ms/step - loss: 0.2277 - top_k_categorical_accuracy: 0.9926 - val_loss: 0.0798 - val_top_k_categorical_accuracy: 0.9989\n",
      "Epoch 2/20\n",
      "1730/1730 [==============================] - 143s 83ms/step - loss: 0.2137 - top_k_categorical_accuracy: 0.9949 - val_loss: 0.0657 - val_top_k_categorical_accuracy: 0.9989\n",
      "Epoch 3/20\n",
      "1730/1730 [==============================] - 141s 82ms/step - loss: 0.2216 - top_k_categorical_accuracy: 0.9932 - val_loss: 0.0941 - val_top_k_categorical_accuracy: 0.9989\n",
      "Epoch 4/20\n",
      "1730/1730 [==============================] - 142s 82ms/step - loss: 0.1987 - top_k_categorical_accuracy: 0.9954 - val_loss: 0.1056 - val_top_k_categorical_accuracy: 1.0000\n",
      "Epoch 5/20\n",
      "1730/1730 [==============================] - 145s 84ms/step - loss: 0.2034 - top_k_categorical_accuracy: 0.9938 - val_loss: 0.1736 - val_top_k_categorical_accuracy: 0.9946\n",
      "Epoch 6/20\n",
      "1730/1730 [==============================] - 155s 89ms/step - loss: 0.1927 - top_k_categorical_accuracy: 0.9934 - val_loss: 0.1278 - val_top_k_categorical_accuracy: 0.9978\n",
      "Epoch 7/20\n",
      "1730/1730 [==============================] - 164s 95ms/step - loss: 0.1880 - top_k_categorical_accuracy: 0.9947 - val_loss: 0.0900 - val_top_k_categorical_accuracy: 1.0000\n",
      "Epoch 8/20\n",
      "1730/1730 [==============================] - 165s 95ms/step - loss: 0.1821 - top_k_categorical_accuracy: 0.9939 - val_loss: 0.0862 - val_top_k_categorical_accuracy: 0.9978\n",
      "Epoch 9/20\n",
      "1730/1730 [==============================] - 173s 100ms/step - loss: 0.1631 - top_k_categorical_accuracy: 0.9955 - val_loss: 0.0588 - val_top_k_categorical_accuracy: 1.0000\n",
      "Epoch 10/20\n",
      "1730/1730 [==============================] - 168s 97ms/step - loss: 0.1549 - top_k_categorical_accuracy: 0.9968 - val_loss: 0.1265 - val_top_k_categorical_accuracy: 0.9978\n",
      "Epoch 11/20\n",
      "1730/1730 [==============================] - 170s 98ms/step - loss: 0.1581 - top_k_categorical_accuracy: 0.9961 - val_loss: 0.0659 - val_top_k_categorical_accuracy: 0.9989\n",
      "Epoch 12/20\n",
      "1730/1730 [==============================] - 160s 93ms/step - loss: 0.1532 - top_k_categorical_accuracy: 0.9967 - val_loss: 0.0775 - val_top_k_categorical_accuracy: 1.0000\n",
      "Epoch 13/20\n",
      "1730/1730 [==============================] - 148s 86ms/step - loss: 0.1649 - top_k_categorical_accuracy: 0.9954 - val_loss: 0.1261 - val_top_k_categorical_accuracy: 0.9978\n",
      "Epoch 14/20\n",
      "1730/1730 [==============================] - 150s 87ms/step - loss: 0.1463 - top_k_categorical_accuracy: 0.9980 - val_loss: 0.0685 - val_top_k_categorical_accuracy: 0.9989\n",
      "Epoch 15/20\n",
      "1730/1730 [==============================] - 166s 96ms/step - loss: 0.1510 - top_k_categorical_accuracy: 0.9958 - val_loss: 0.1315 - val_top_k_categorical_accuracy: 0.9967\n",
      "Epoch 16/20\n",
      "1730/1730 [==============================] - 168s 97ms/step - loss: 0.1422 - top_k_categorical_accuracy: 0.9964 - val_loss: 0.0610 - val_top_k_categorical_accuracy: 1.0000\n",
      "Epoch 17/20\n",
      "1730/1730 [==============================] - 161s 93ms/step - loss: 0.1240 - top_k_categorical_accuracy: 0.9980 - val_loss: 0.1154 - val_top_k_categorical_accuracy: 0.9978\n",
      "Epoch 18/20\n",
      "1730/1730 [==============================] - 145s 84ms/step - loss: 0.1240 - top_k_categorical_accuracy: 0.9967 - val_loss: 0.0306 - val_top_k_categorical_accuracy: 1.0000\n",
      "Epoch 19/20\n",
      "1730/1730 [==============================] - 156s 90ms/step - loss: 0.1271 - top_k_categorical_accuracy: 0.9975 - val_loss: 0.0612 - val_top_k_categorical_accuracy: 0.9989\n",
      "Epoch 20/20\n",
      "1730/1730 [==============================] - 164s 95ms/step - loss: 0.1196 - top_k_categorical_accuracy: 0.9973 - val_loss: 0.0743 - val_top_k_categorical_accuracy: 1.0000\n"
     ]
    }
   ],
   "source": [
    "num_classes = 102\n",
    "img_size = 224\n",
    "\n",
    "inputs = layers.Input(shape=(img_size, img_size, 3))\n",
    "output = EfficientNetV2B0(include_top=True, weights='weights_EffNetb0v2_ep30.h5', classes=num_classes,include_preprocessing = False, input_shape = (224,224,3))(inputs)#,include_preprocessing = False\n",
    "model = keras.Model(inputs,output)\n",
    "model.compile(optimizer='adam', loss = 'categorical_crossentropy', metrics=['top_k_categorical_accuracy'])\n",
    "model.summary()\n",
    "his = model.fit(train_gen,epochs=20,validation_data = val_gen)"
   ],
   "metadata": {
    "collapsed": false
   }
  },
  {
   "cell_type": "code",
   "execution_count": 17,
   "outputs": [],
   "source": [
    "model.layers[1].save_weights('EfficientNetb0v2_50.h5')"
   ],
   "metadata": {
    "collapsed": false
   }
  },
  {
   "cell_type": "code",
   "execution_count": 18,
   "outputs": [],
   "source": [
    "model.save('weights_EfficientNetb0v2_50.h5')"
   ],
   "metadata": {
    "collapsed": false
   }
  },
  {
   "cell_type": "code",
   "execution_count": 8,
   "outputs": [
    {
     "data": {
      "text/plain": "<Figure size 640x480 with 1 Axes>",
      "image/png": "[encoded data removed]"
     },
     "metadata": {},
     "output_type": "display_data"
    }
   ],
   "source": [
    "plt.plot(his.history['accuracy'])\n",
    "plt.plot(his.history['val_accuracy'])\n",
    "plt.title('model accuracy')\n",
    "plt.ylabel('accuracy')\n",
    "plt.xlabel('epoch')\n",
    "plt.legend(['train', 'val'], loc='upper left')\n",
    "plt.show()"
   ],
   "metadata": {
    "collapsed": false
   }
  },
  {
   "cell_type": "code",
   "execution_count": null,
   "outputs": [],
   "source": [],
   "metadata": {
    "collapsed": false
   }
  }
 ],
 "metadata": {
  "kernelspec": {
   "display_name": "Python 3",
   "language": "python",
   "name": "python3"
  },
  "language_info": {
   "codemirror_mode": {
    "name": "ipython",
    "version": 2
   },
   "file_extension": ".py",
   "mimetype": "text/x-python",
   "name": "python",
   "nbconvert_exporter": "python",
   "pygments_lexer": "ipython2",
   "version": "2.7.6"
  }
 },
 "nbformat": 4,
 "nbformat_minor": 0
}
